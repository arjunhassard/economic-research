{
 "cells": [
  {
   "cell_type": "code",
   "execution_count": 1,
   "id": "a9772c34",
   "metadata": {},
   "outputs": [],
   "source": [
    "import numpy as np\n",
    "import pandas as pd\n",
    "from matplotlib import pyplot as plt\n",
    "from matplotlib.pyplot import figure\n",
    "import datetime\n",
    "from scipy import stats\n",
    "fig_size = plt.rcParams[\"figure.figsize\"]\n",
    "fig_size[0] = 14\n",
    "fig_size[1] = 10"
   ]
  },
  {
   "cell_type": "markdown",
   "id": "f04c0d9a",
   "metadata": {},
   "source": [
    "First we retrieve relevant dispatcher events using Dune. Check out the SQL queries here: \n",
    "- Worker **Commitments** https://dune.xyz/queries/48938\n",
    "This pulls, on each period, each (staker) address – whose correspondng worker successfully committed to the next period. \n",
    "- Staker **Locks** https://dune.xyz/queries/54332\n",
    "This pulls, on each period, any token locking event by a staker and the sum of tokens locked.\n",
    "- Staker **Withdrawals** https://dune.xyz/queries/54339\n",
    "This pulls, on each period, any token withdrawal event by a staker and the sum of tokens withdrawn. \n",
    "\n",
    "Note that the Locks and Withdrawals tables do not include preallocated holdings or the growth in stakes due to restaking, and so underestimate the total capital staked at a given period – hence this notebook is WIP. For now, this study provides some insight into the variance of committed capital period-to-period, how this impacts the fluctuations of the break-even stake size, and how this in turn affects the population of nodes (addresses) and their respective solvencies. "
   ]
  },
  {
   "cell_type": "code",
   "execution_count": 2,
   "id": "510d2c28",
   "metadata": {},
   "outputs": [],
   "source": [
    "df_c = pd.read_csv(r'commitments.csv')\n",
    "df_l = pd.read_csv(r'locks.csv')\n",
    "df_w = pd.read_csv(r'withdrawals.csv')\n",
    "df_c['timestamp'] = pd.to_datetime(df_c['timestamp']) #standardize the date format\n",
    "df_l['timestamp'] = pd.to_datetime(df_l['timestamp'])\n",
    "df_w['timestamp'] = pd.to_datetime(df_w['timestamp'])\n",
    "df_c['timestamp'] = df_c['timestamp'].dt.date\n",
    "df_l['timestamp'] = df_l['timestamp'].dt.date\n",
    "df_w['timestamp'] = df_w['timestamp'].dt.date"
   ]
  },
  {
   "cell_type": "code",
   "execution_count": 4,
   "id": "8a0aadc9",
   "metadata": {},
   "outputs": [],
   "source": [
    "# Join the three tables into one \n",
    "df_temp = pd.merge(df_c, df_l, how='left', on=['Staker', 'timestamp']) \n",
    "df_merged = pd.merge(df_temp, df_w, how='left', on=['Staker', 'timestamp'])\n",
    "df_merged.fillna(0, inplace=True)"
   ]
  },
  {
   "cell_type": "code",
   "execution_count": null,
   "id": "f804a786",
   "metadata": {},
   "outputs": [],
   "source": [
    "#We focus on node behavior up until the period duration extension on April 14th 2021 (i.e. the era when periods were 1 day long)\n",
    "split_date = pd.to_datetime('2021-04-15')\n",
    "df_1day = df_merged.loc[(df_merged['timestamp'] < split_date)]\n",
    "df_7day = df_merged.loc[(df_merged['timestamp'] >= split_date)]"
   ]
  },
  {
   "cell_type": "code",
   "execution_count": null,
   "id": "3c376063",
   "metadata": {},
   "outputs": [],
   "source": [
    "#We calculate a rudimentary value for each staker's \n",
    "df_1day['Staked'] = df_1day['Locked'].copy() - df_1day['Withdrawn'].copy()\n"
   ]
  }
 ],
 "metadata": {
  "kernelspec": {
   "display_name": "Python 3 (ipykernel)",
   "language": "python",
   "name": "python3"
  },
  "language_info": {
   "codemirror_mode": {
    "name": "ipython",
    "version": 3
   },
   "file_extension": ".py",
   "mimetype": "text/x-python",
   "name": "python",
   "nbconvert_exporter": "python",
   "pygments_lexer": "ipython3",
   "version": "3.9.7"
  }
 },
 "nbformat": 4,
 "nbformat_minor": 5
}
