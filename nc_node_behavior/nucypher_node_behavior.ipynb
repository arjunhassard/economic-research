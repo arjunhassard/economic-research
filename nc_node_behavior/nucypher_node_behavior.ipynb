{
 "cells": [
  {
   "cell_type": "code",
   "execution_count": 1,
   "id": "e5289f92",
   "metadata": {},
   "outputs": [],
   "source": [
    "import numpy as np\n",
    "import pandas as pd\n",
    "from matplotlib import pyplot as plt\n",
    "from matplotlib.pyplot import figure\n",
    "import datetime\n",
    "from scipy import stats\n",
    "fig_size = plt.rcParams[\"figure.figsize\"]\n",
    "fig_size[0] = 14\n",
    "fig_size[1] = 10"
   ]
  },
  {
   "cell_type": "markdown",
   "id": "05e855ec",
   "metadata": {},
   "source": [
    "Let's retrieve the relevant dispatcher events using Dune. Check out the SQL queries here: \n",
    "- Worker **Commitments** https://dune.xyz/queries/48938\n",
    "This pulls, on each period, each (staker) address – whose correspondng worker successfully committed to the next period. \n",
    "- Staker **Locks** https://dune.xyz/queries/54332\n",
    "This pulls, on each period, any token locking event by a staker and the sum of tokens locked.\n",
    "- Staker **Withdrawals** https://dune.xyz/queries/54339\n",
    "This pulls, on each period, any token withdrawal event by a staker and the sum of tokens withdrawn. \n",
    "\n",
    "Note that the Locks and Withdrawals tables do not include preallocated holdings or the growth in stakes due to restaking, and so underestimate the total capital currently staked by some participants when their worker makes a commitment. Hence, this notebook is WIP. For now this study provides some insight into the variance of committed capital period-to-period, how this impacts the changing break-even stake size, and how this affects the population of nodes (addresses) "
   ]
  },
  {
   "cell_type": "code",
   "execution_count": 2,
   "id": "d65fa4b6",
   "metadata": {},
   "outputs": [],
   "source": [
    "df_c = pd.read_csv(r'commitments.csv')\n",
    "df_l = pd.read_csv(r'locks.csv')\n",
    "df_w = pd.read_csv(r'withdrawals.csv')\n",
    "df_c['timestamp'] = pd.to_datetime(df_c['timestamp'])\n",
    "df_l['timestamp'] = pd.to_datetime(df_l['timestamp'])\n",
    "df_w['timestamp'] = pd.to_datetime(df_w['timestamp'])\n",
    "df_c['timestamp'] = df_c['timestamp'].dt.date\n",
    "df_l['timestamp'] = df_l['timestamp'].dt.date\n",
    "df_w['timestamp'] = df_w['timestamp'].dt.date"
   ]
  },
  {
   "cell_type": "code",
   "execution_count": null,
   "id": "e8a699b6",
   "metadata": {},
   "outputs": [],
   "source": []
  }
 ],
 "metadata": {
  "kernelspec": {
   "display_name": "Python 3 (ipykernel)",
   "language": "python",
   "name": "python3"
  },
  "language_info": {
   "codemirror_mode": {
    "name": "ipython",
    "version": 3
   },
   "file_extension": ".py",
   "mimetype": "text/x-python",
   "name": "python",
   "nbconvert_exporter": "python",
   "pygments_lexer": "ipython3",
   "version": "3.9.7"
  }
 },
 "nbformat": 4,
 "nbformat_minor": 5
}
